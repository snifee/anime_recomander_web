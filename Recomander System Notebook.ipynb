{
 "cells": [
  {
   "cell_type": "markdown",
   "metadata": {
    "id": "LiJYKIK84RoT"
   },
   "source": [
    "Mengisi nilai variabel KAGGLE_USERNAME dan KAGGLE KEY agar dapat mendownload dataset langsung ke colab"
   ]
  },
  {
   "cell_type": "code",
   "execution_count": 1,
   "metadata": {
    "executionInfo": {
     "elapsed": 6,
     "status": "ok",
     "timestamp": 1635315306257,
     "user": {
      "displayName": "Arfal Razya",
      "photoUrl": "https://lh3.googleusercontent.com/a-/AOh14Gh_q3EhB-VGjPr6l1LLwGZxajUJFvmO_xL3OjI7qQ=s64",
      "userId": "07865551859919385323"
     },
     "user_tz": -480
    },
    "id": "YqoxtLpvmL6P"
   },
   "outputs": [],
   "source": [
    "import os\n",
    "os.environ['KAGGLE_USERNAME'] = 'arfalrazya'\n",
    "os.environ['KAGGLE_KEY'] = '06d59d4ccf72432919159fdb46ba5caf'"
   ]
  },
  {
   "cell_type": "markdown",
   "metadata": {
    "id": "zvJ0ZJ1j4Z1X"
   },
   "source": [
    "Mendownload datasets dengan API yang telah disediakan di halaman dataset"
   ]
  },
  {
   "cell_type": "code",
   "execution_count": 3,
   "metadata": {
    "colab": {
     "base_uri": "https://localhost:8080/"
    },
    "executionInfo": {
     "elapsed": 21499,
     "status": "ok",
     "timestamp": 1635315327751,
     "user": {
      "displayName": "Arfal Razya",
      "photoUrl": "https://lh3.googleusercontent.com/a-/AOh14Gh_q3EhB-VGjPr6l1LLwGZxajUJFvmO_xL3OjI7qQ=s64",
      "userId": "07865551859919385323"
     },
     "user_tz": -480
    },
    "id": "8EgSEUeymWO3",
    "outputId": "a7920b6b-0b84-45ef-c164-dfc3f1aa5948"
   },
   "outputs": [
    {
     "name": "stdout",
     "output_type": "stream",
     "text": [
      "anime-recommendation-database-2020.zip: Skipping, found more recently modified local copy (use --force to force download)\n"
     ]
    }
   ],
   "source": [
    "!kaggle datasets download -d hernan4444/anime-recommendation-database-2020"
   ]
  },
  {
   "cell_type": "markdown",
   "metadata": {
    "id": "V1_jaQTo4dxu"
   },
   "source": [
    "Melakukan Ekstraksi datasets dengan command unzip"
   ]
  },
  {
   "cell_type": "code",
   "execution_count": 4,
   "metadata": {
    "colab": {
     "base_uri": "https://localhost:8080/"
    },
    "executionInfo": {
     "elapsed": 40162,
     "status": "ok",
     "timestamp": 1635315367908,
     "user": {
      "displayName": "Arfal Razya",
      "photoUrl": "https://lh3.googleusercontent.com/a-/AOh14Gh_q3EhB-VGjPr6l1LLwGZxajUJFvmO_xL3OjI7qQ=s64",
      "userId": "07865551859919385323"
     },
     "user_tz": -480
    },
    "id": "3KOYFubmmcqu",
    "outputId": "fbd2d83b-3c25-4a32-d069-4b1a3b4d3b03"
   },
   "outputs": [
    {
     "name": "stderr",
     "output_type": "stream",
     "text": [
      "'unzip' is not recognized as an internal or external command,\n",
      "operable program or batch file.\n"
     ]
    }
   ],
   "source": [
    "!unzip 'anime-recommendation-database-2020.zip'"
   ]
  },
  {
   "cell_type": "markdown",
   "metadata": {
    "id": "D6HNiMlL4k-r"
   },
   "source": [
    "#Data Loading\n",
    "Membaca dataset pada file **anime_with_synopsis.csv**. Ini dilakukan menggunakan fungsi **read_csv** dari library pandas\n",
    "\n",
    "\n",
    "\n"
   ]
  },
  {
   "cell_type": "code",
   "execution_count": 1,
   "metadata": {
    "executionInfo": {
     "elapsed": 5551,
     "status": "ok",
     "timestamp": 1635315373446,
     "user": {
      "displayName": "Arfal Razya",
      "photoUrl": "https://lh3.googleusercontent.com/a-/AOh14Gh_q3EhB-VGjPr6l1LLwGZxajUJFvmO_xL3OjI7qQ=s64",
      "userId": "07865551859919385323"
     },
     "user_tz": -480
    },
    "id": "WrBIDEpWmoQG"
   },
   "outputs": [],
   "source": [
    "import pandas as pd\n",
    " \n",
    "anime_synopsis = pd.read_csv('./anime-recommendation-database-2020/anime_with_synopsis.csv')"
   ]
  },
  {
   "cell_type": "markdown",
   "metadata": {
    "id": "W8BpwBl77RvN"
   },
   "source": [
    "#Data Understandings\n",
    "\n",
    "## Melihat informasi dari datasets\n",
    "\n",
    "Melihat informasi kolom pada dataset anime_synopsis dengan fungsi **info()**. Hasil dari fungsi info memberikan infromasi bahwa terdapat satu tipe data integer pada kolom MAL_ID dan tipe data object untuk kolom lainnya."
   ]
  },
  {
   "cell_type": "code",
   "execution_count": 2,
   "metadata": {
    "colab": {
     "base_uri": "https://localhost:8080/"
    },
    "executionInfo": {
     "elapsed": 31,
     "status": "ok",
     "timestamp": 1635315373447,
     "user": {
      "displayName": "Arfal Razya",
      "photoUrl": "https://lh3.googleusercontent.com/a-/AOh14Gh_q3EhB-VGjPr6l1LLwGZxajUJFvmO_xL3OjI7qQ=s64",
      "userId": "07865551859919385323"
     },
     "user_tz": -480
    },
    "id": "TCukO7_kvySQ",
    "outputId": "822d8e76-27cb-4d49-fd2e-960e5730f2d8"
   },
   "outputs": [
    {
     "name": "stdout",
     "output_type": "stream",
     "text": [
      "<class 'pandas.core.frame.DataFrame'>\n",
      "RangeIndex: 16214 entries, 0 to 16213\n",
      "Data columns (total 5 columns):\n",
      " #   Column     Non-Null Count  Dtype \n",
      "---  ------     --------------  ----- \n",
      " 0   MAL_ID     16214 non-null  int64 \n",
      " 1   Name       16214 non-null  object\n",
      " 2   Score      16214 non-null  object\n",
      " 3   Genres     16214 non-null  object\n",
      " 4   sypnopsis  16206 non-null  object\n",
      "dtypes: int64(1), object(4)\n",
      "memory usage: 633.5+ KB\n"
     ]
    }
   ],
   "source": [
    "anime_synopsis.info()"
   ]
  },
  {
   "cell_type": "markdown",
   "metadata": {
    "id": "MX8QfIbBi6er"
   },
   "source": [
    "## Melihat Baris pada datasets\n",
    "\n",
    "Melihat 5 baris teratas dari datasets anime_synopsis. dengan fungsi **head()**. Fungsi tersebut akan menghasilkan 5 baris teratas dari datasets anime_synopsis beserta nilai pada setiap kolom pada baris tersebut."
   ]
  },
  {
   "cell_type": "code",
   "execution_count": 3,
   "metadata": {
    "colab": {
     "base_uri": "https://localhost:8080/",
     "height": 287
    },
    "executionInfo": {
     "elapsed": 28,
     "status": "ok",
     "timestamp": 1635315373448,
     "user": {
      "displayName": "Arfal Razya",
      "photoUrl": "https://lh3.googleusercontent.com/a-/AOh14Gh_q3EhB-VGjPr6l1LLwGZxajUJFvmO_xL3OjI7qQ=s64",
      "userId": "07865551859919385323"
     },
     "user_tz": -480
    },
    "id": "zhxkYo1uwAuV",
    "outputId": "f0b9c56e-8945-47f9-e0ce-3909eb9c26f5"
   },
   "outputs": [
    {
     "data": {
      "text/html": [
       "<div>\n",
       "<style scoped>\n",
       "    .dataframe tbody tr th:only-of-type {\n",
       "        vertical-align: middle;\n",
       "    }\n",
       "\n",
       "    .dataframe tbody tr th {\n",
       "        vertical-align: top;\n",
       "    }\n",
       "\n",
       "    .dataframe thead th {\n",
       "        text-align: right;\n",
       "    }\n",
       "</style>\n",
       "<table border=\"1\" class=\"dataframe\">\n",
       "  <thead>\n",
       "    <tr style=\"text-align: right;\">\n",
       "      <th></th>\n",
       "      <th>MAL_ID</th>\n",
       "      <th>Name</th>\n",
       "      <th>Score</th>\n",
       "      <th>Genres</th>\n",
       "      <th>sypnopsis</th>\n",
       "    </tr>\n",
       "  </thead>\n",
       "  <tbody>\n",
       "    <tr>\n",
       "      <th>0</th>\n",
       "      <td>1</td>\n",
       "      <td>Cowboy Bebop</td>\n",
       "      <td>8.78</td>\n",
       "      <td>Action, Adventure, Comedy, Drama, Sci-Fi, Space</td>\n",
       "      <td>In the year 2071, humanity has colonized sever...</td>\n",
       "    </tr>\n",
       "    <tr>\n",
       "      <th>1</th>\n",
       "      <td>5</td>\n",
       "      <td>Cowboy Bebop: Tengoku no Tobira</td>\n",
       "      <td>8.39</td>\n",
       "      <td>Action, Drama, Mystery, Sci-Fi, Space</td>\n",
       "      <td>other day, another bounty—such is the life of ...</td>\n",
       "    </tr>\n",
       "    <tr>\n",
       "      <th>2</th>\n",
       "      <td>6</td>\n",
       "      <td>Trigun</td>\n",
       "      <td>8.24</td>\n",
       "      <td>Action, Sci-Fi, Adventure, Comedy, Drama, Shounen</td>\n",
       "      <td>Vash the Stampede is the man with a $$60,000,0...</td>\n",
       "    </tr>\n",
       "    <tr>\n",
       "      <th>3</th>\n",
       "      <td>7</td>\n",
       "      <td>Witch Hunter Robin</td>\n",
       "      <td>7.27</td>\n",
       "      <td>Action, Mystery, Police, Supernatural, Drama, ...</td>\n",
       "      <td>ches are individuals with special powers like ...</td>\n",
       "    </tr>\n",
       "    <tr>\n",
       "      <th>4</th>\n",
       "      <td>8</td>\n",
       "      <td>Bouken Ou Beet</td>\n",
       "      <td>6.98</td>\n",
       "      <td>Adventure, Fantasy, Shounen, Supernatural</td>\n",
       "      <td>It is the dark century and the people are suff...</td>\n",
       "    </tr>\n",
       "  </tbody>\n",
       "</table>\n",
       "</div>"
      ],
      "text/plain": [
       "   MAL_ID                             Name Score  \\\n",
       "0       1                     Cowboy Bebop  8.78   \n",
       "1       5  Cowboy Bebop: Tengoku no Tobira  8.39   \n",
       "2       6                           Trigun  8.24   \n",
       "3       7               Witch Hunter Robin  7.27   \n",
       "4       8                   Bouken Ou Beet  6.98   \n",
       "\n",
       "                                              Genres  \\\n",
       "0    Action, Adventure, Comedy, Drama, Sci-Fi, Space   \n",
       "1              Action, Drama, Mystery, Sci-Fi, Space   \n",
       "2  Action, Sci-Fi, Adventure, Comedy, Drama, Shounen   \n",
       "3  Action, Mystery, Police, Supernatural, Drama, ...   \n",
       "4          Adventure, Fantasy, Shounen, Supernatural   \n",
       "\n",
       "                                           sypnopsis  \n",
       "0  In the year 2071, humanity has colonized sever...  \n",
       "1  other day, another bounty—such is the life of ...  \n",
       "2  Vash the Stampede is the man with a $$60,000,0...  \n",
       "3  ches are individuals with special powers like ...  \n",
       "4  It is the dark century and the people are suff...  "
      ]
     },
     "execution_count": 3,
     "metadata": {},
     "output_type": "execute_result"
    }
   ],
   "source": [
    "anime_synopsis.head()"
   ]
  },
  {
   "cell_type": "markdown",
   "metadata": {
    "id": "Cqy-Fg9gjN36"
   },
   "source": [
    "#Data Preparation\n",
    "##Pengecekan Missing Value\n",
    "\n",
    "Melakukan pengecekan untuk missing value menggunakan fungsi **isnull()**, kemudian menjumlhkan nilai pada kolom yang  mengandung missing value. Dari Hasil pengecekan pada datasets **anime_synopsis** terdapat 8 missing value pada kolom synopsis."
   ]
  },
  {
   "cell_type": "code",
   "execution_count": 4,
   "metadata": {
    "colab": {
     "base_uri": "https://localhost:8080/"
    },
    "executionInfo": {
     "elapsed": 12,
     "status": "ok",
     "timestamp": 1635315373448,
     "user": {
      "displayName": "Arfal Razya",
      "photoUrl": "https://lh3.googleusercontent.com/a-/AOh14Gh_q3EhB-VGjPr6l1LLwGZxajUJFvmO_xL3OjI7qQ=s64",
      "userId": "07865551859919385323"
     },
     "user_tz": -480
    },
    "id": "WaZM3Vcv-ZrN",
    "outputId": "5df9ff4c-663d-4b36-adf2-9cc41255b096"
   },
   "outputs": [
    {
     "data": {
      "text/plain": [
       "MAL_ID       0\n",
       "Name         0\n",
       "Score        0\n",
       "Genres       0\n",
       "sypnopsis    8\n",
       "dtype: int64"
      ]
     },
     "execution_count": 4,
     "metadata": {},
     "output_type": "execute_result"
    }
   ],
   "source": [
    "anime_synopsis.isnull().sum()"
   ]
  },
  {
   "cell_type": "markdown",
   "metadata": {
    "id": "H2bScoHd7p96"
   },
   "source": [
    "## *Missing Value Handling*\n",
    "\n",
    "Mengganti missing value pada kolom sinopsis dengan nilai string kosong. Hai ini dilakukan agar setiap baris pada kolom synopsis nantinya dapat direpresentasikan dengan TF-IDF. Ini dilakukan dengan fungsi **fillna()** yang akan mengisi nilai yang kosong pada kolom synopsis dengan string kosong."
   ]
  },
  {
   "cell_type": "code",
   "execution_count": 5,
   "metadata": {
    "executionInfo": {
     "elapsed": 10,
     "status": "ok",
     "timestamp": 1635315373449,
     "user": {
      "displayName": "Arfal Razya",
      "photoUrl": "https://lh3.googleusercontent.com/a-/AOh14Gh_q3EhB-VGjPr6l1LLwGZxajUJFvmO_xL3OjI7qQ=s64",
      "userId": "07865551859919385323"
     },
     "user_tz": -480
    },
    "id": "XSB1svSTwcdI"
   },
   "outputs": [],
   "source": [
    "anime_synopsis['sypnopsis'] = anime_synopsis['sypnopsis'].fillna('')"
   ]
  },
  {
   "cell_type": "markdown",
   "metadata": {
    "id": "NrgWdzdG9wUM"
   },
   "source": [
    "#Model Development dengan Content Based Filtering\n",
    "## TF-IDF Vectorizer\n",
    "Melakukan tokenisasi dengan **TfidfVectorizer()** dari library sklearn dengan masukan kolom synopsis dari datasets anime_synopsis. Tokenisasi dilakukan untuk menemukan representasi fitur penting dari setiap sinopsis."
   ]
  },
  {
   "cell_type": "code",
   "execution_count": 6,
   "metadata": {
    "colab": {
     "base_uri": "https://localhost:8080/"
    },
    "executionInfo": {
     "elapsed": 1775,
     "status": "ok",
     "timestamp": 1635315375214,
     "user": {
      "displayName": "Arfal Razya",
      "photoUrl": "https://lh3.googleusercontent.com/a-/AOh14Gh_q3EhB-VGjPr6l1LLwGZxajUJFvmO_xL3OjI7qQ=s64",
      "userId": "07865551859919385323"
     },
     "user_tz": -480
    },
    "id": "wQs0SVJE1gSj",
    "outputId": "f6a3cbe0-be23-4e74-ff5e-d9d2a8d458a6"
   },
   "outputs": [
    {
     "data": {
      "text/plain": [
       "(16214, 45363)"
      ]
     },
     "execution_count": 6,
     "metadata": {},
     "output_type": "execute_result"
    }
   ],
   "source": [
    "from sklearn.feature_extraction.text import TfidfVectorizer\n",
    "tfidf = TfidfVectorizer(analyzer='word')\n",
    "tfidf_matrix = tfidf.fit_transform(anime_synopsis['sypnopsis'])\n",
    "tfidf_matrix.shape"
   ]
  },
  {
   "cell_type": "code",
   "execution_count": 17,
   "metadata": {},
   "outputs": [
    {
     "data": {
      "text/plain": [
       "<16214x45363 sparse matrix of type '<class 'numpy.float64'>'\n",
       "\twith 748499 stored elements in Compressed Sparse Row format>"
      ]
     },
     "execution_count": 17,
     "metadata": {},
     "output_type": "execute_result"
    }
   ],
   "source": [
    "tfidf_matrix"
   ]
  },
  {
   "cell_type": "markdown",
   "metadata": {
    "id": "HJINT9P-_Lby"
   },
   "source": [
    "## Membuat matriks TFIDF\n",
    "Membuat hasil tf-idf dalam bentuk matriks, menggunakan fungsi **todense()**. Ini dilakukan agar dapat menghitung kesamaan hasil tokenisasi dengan fungsi cosine similarity "
   ]
  },
  {
   "cell_type": "code",
   "execution_count": 7,
   "metadata": {
    "colab": {
     "base_uri": "https://localhost:8080/"
    },
    "executionInfo": {
     "elapsed": 4637,
     "status": "ok",
     "timestamp": 1635315379849,
     "user": {
      "displayName": "Arfal Razya",
      "photoUrl": "https://lh3.googleusercontent.com/a-/AOh14Gh_q3EhB-VGjPr6l1LLwGZxajUJFvmO_xL3OjI7qQ=s64",
      "userId": "07865551859919385323"
     },
     "user_tz": -480
    },
    "id": "BXUHRMjA2dAl",
    "outputId": "34877cd8-4a0f-4c30-f0e3-647748e1d7f8"
   },
   "outputs": [
    {
     "data": {
      "text/plain": [
       "matrix([[0.        , 0.        , 0.        , ..., 0.        , 0.        ,\n",
       "         0.        ],\n",
       "        [0.        , 0.        , 0.        , ..., 0.        , 0.        ,\n",
       "         0.        ],\n",
       "        [0.        , 0.23540208, 0.        , ..., 0.        , 0.        ,\n",
       "         0.        ],\n",
       "        ...,\n",
       "        [0.        , 0.        , 0.        , ..., 0.        , 0.        ,\n",
       "         0.        ],\n",
       "        [0.        , 0.        , 0.        , ..., 0.        , 0.        ,\n",
       "         0.        ],\n",
       "        [0.        , 0.        , 0.        , ..., 0.        , 0.        ,\n",
       "         0.        ]])"
      ]
     },
     "execution_count": 7,
     "metadata": {},
     "output_type": "execute_result"
    }
   ],
   "source": [
    "tfidf_matrix.todense()"
   ]
  },
  {
   "cell_type": "markdown",
   "metadata": {
    "id": "KSqt5ARKAQso"
   },
   "source": [
    "##Similarity Measures\n",
    "Menghitung derajat kesamaan (similarity degree) antar sinopsis dengan teknik **cosine similarity**. Menggunakan fungsi cosine_similarity dari library sklearn.Perhitungan **cosine similarity** dataframe tfidf_matrix yang kita peroleh pada tahapan sebelumnya. "
   ]
  },
  {
   "cell_type": "code",
   "execution_count": 8,
   "metadata": {
    "executionInfo": {
     "elapsed": 9,
     "status": "aborted",
     "timestamp": 1635315385991,
     "user": {
      "displayName": "Arfal Razya",
      "photoUrl": "https://lh3.googleusercontent.com/a-/AOh14Gh_q3EhB-VGjPr6l1LLwGZxajUJFvmO_xL3OjI7qQ=s64",
      "userId": "07865551859919385323"
     },
     "user_tz": -480
    },
    "id": "4U3rdcmt3Gww"
   },
   "outputs": [
    {
     "data": {
      "text/plain": [
       "array([[1.        , 0.26802724, 0.0995299 , ..., 0.00454389, 0.00888682,\n",
       "        0.07977393],\n",
       "       [0.26802724, 1.        , 0.10013954, ..., 0.00518709, 0.        ,\n",
       "        0.05853303],\n",
       "       [0.0995299 , 0.10013954, 1.        , ..., 0.00861021, 0.        ,\n",
       "        0.04168639],\n",
       "       ...,\n",
       "       [0.00454389, 0.00518709, 0.00861021, ..., 1.        , 0.02999185,\n",
       "        0.00518434],\n",
       "       [0.00888682, 0.        , 0.        , ..., 0.02999185, 1.        ,\n",
       "        0.01520908],\n",
       "       [0.07977393, 0.05853303, 0.04168639, ..., 0.00518434, 0.01520908,\n",
       "        1.        ]])"
      ]
     },
     "execution_count": 8,
     "metadata": {},
     "output_type": "execute_result"
    }
   ],
   "source": [
    "from sklearn.metrics.pairwise import cosine_similarity\n",
    "\n",
    "similarity = cosine_similarity(tfidf_matrix) \n",
    "similarity\n",
    "\n",
    "# from sklearn.metrics.pairwise import euclidean_distances\n",
    "\n",
    "# similarity = euclidean_distances(tfidf_matrix) \n",
    "# similarity"
   ]
  },
  {
   "cell_type": "markdown",
   "metadata": {
    "id": "HnJ0mTAGAvSH"
   },
   "source": [
    "## Matriks Hasil perhitungan Cosine Similarity\n",
    "\n",
    "Melihat matriks kesamaan setiap sinopsis anime dengan menampilkan nama anime dalam 5 sampel kolom (axis = 1) dan 10 sampel baris (axis=0). Dari matriks ini dapat dilihat nilai yang dihasil kan untuk setiap element bernilai 0 sampai 1. Sebagai contoh pada element [0,0] nilai kesamaan anime \"Dai Yamato Zero-gou\" dengan \"Niehime to Kemono no Ou\" memiliki nilai kesamaan 0.078287\t"
   ]
  },
  {
   "cell_type": "code",
   "execution_count": 9,
   "metadata": {
    "executionInfo": {
     "elapsed": 10,
     "status": "aborted",
     "timestamp": 1635315385993,
     "user": {
      "displayName": "Arfal Razya",
      "photoUrl": "https://lh3.googleusercontent.com/a-/AOh14Gh_q3EhB-VGjPr6l1LLwGZxajUJFvmO_xL3OjI7qQ=s64",
      "userId": "07865551859919385323"
     },
     "user_tz": -480
    },
    "id": "oBT782fZ3Pa9"
   },
   "outputs": [
    {
     "name": "stdout",
     "output_type": "stream",
     "text": [
      "Shape: (16214, 16214)\n"
     ]
    },
    {
     "data": {
      "text/html": [
       "<div>\n",
       "<style scoped>\n",
       "    .dataframe tbody tr th:only-of-type {\n",
       "        vertical-align: middle;\n",
       "    }\n",
       "\n",
       "    .dataframe tbody tr th {\n",
       "        vertical-align: top;\n",
       "    }\n",
       "\n",
       "    .dataframe thead th {\n",
       "        text-align: right;\n",
       "    }\n",
       "</style>\n",
       "<table border=\"1\" class=\"dataframe\">\n",
       "  <thead>\n",
       "    <tr style=\"text-align: right;\">\n",
       "      <th>Name</th>\n",
       "      <th>Pac-World</th>\n",
       "      <th>Dai Mahou Touge Omake</th>\n",
       "      <th>Chou Denji Machine Voltes V</th>\n",
       "      <th>Ganbare Swimmy</th>\n",
       "      <th>City Hunter: Hyakuman Dollar no Inbou</th>\n",
       "    </tr>\n",
       "    <tr>\n",
       "      <th>Name</th>\n",
       "      <th></th>\n",
       "      <th></th>\n",
       "      <th></th>\n",
       "      <th></th>\n",
       "      <th></th>\n",
       "    </tr>\n",
       "  </thead>\n",
       "  <tbody>\n",
       "    <tr>\n",
       "      <th>Kitty-chan wo Sagase! Toyama-shi Stamp Rally</th>\n",
       "      <td>0.000000</td>\n",
       "      <td>0.000000</td>\n",
       "      <td>0.000000</td>\n",
       "      <td>0.000000</td>\n",
       "      <td>0.000000</td>\n",
       "    </tr>\n",
       "    <tr>\n",
       "      <th>Detective Conan: Black History 2</th>\n",
       "      <td>0.000000</td>\n",
       "      <td>0.000000</td>\n",
       "      <td>0.004055</td>\n",
       "      <td>0.000000</td>\n",
       "      <td>0.006607</td>\n",
       "    </tr>\n",
       "    <tr>\n",
       "      <th>Straw-saurus Neo</th>\n",
       "      <td>0.041534</td>\n",
       "      <td>0.004169</td>\n",
       "      <td>0.064206</td>\n",
       "      <td>0.030023</td>\n",
       "      <td>0.018823</td>\n",
       "    </tr>\n",
       "    <tr>\n",
       "      <th>Na mo Nai Hana no Youni</th>\n",
       "      <td>0.002578</td>\n",
       "      <td>0.008433</td>\n",
       "      <td>0.057748</td>\n",
       "      <td>0.004637</td>\n",
       "      <td>0.026862</td>\n",
       "    </tr>\n",
       "    <tr>\n",
       "      <th>Soukyuu no Fafner: Dead Aggressor - The Beyond</th>\n",
       "      <td>0.004990</td>\n",
       "      <td>0.000000</td>\n",
       "      <td>0.048630</td>\n",
       "      <td>0.013153</td>\n",
       "      <td>0.003314</td>\n",
       "    </tr>\n",
       "    <tr>\n",
       "      <th>Master of Torque 3</th>\n",
       "      <td>0.020968</td>\n",
       "      <td>0.013134</td>\n",
       "      <td>0.036709</td>\n",
       "      <td>0.025520</td>\n",
       "      <td>0.003839</td>\n",
       "    </tr>\n",
       "    <tr>\n",
       "      <th>You Should See Me in a Crown</th>\n",
       "      <td>0.018430</td>\n",
       "      <td>0.000000</td>\n",
       "      <td>0.035768</td>\n",
       "      <td>0.016667</td>\n",
       "      <td>0.031070</td>\n",
       "    </tr>\n",
       "    <tr>\n",
       "      <th>Pokemon Movie 03: Kesshoutou no Teiou Entei</th>\n",
       "      <td>0.052893</td>\n",
       "      <td>0.000000</td>\n",
       "      <td>0.109172</td>\n",
       "      <td>0.036594</td>\n",
       "      <td>0.040071</td>\n",
       "    </tr>\n",
       "    <tr>\n",
       "      <th>Hetalia: The World Twinkle Extra Disc</th>\n",
       "      <td>0.032963</td>\n",
       "      <td>0.002563</td>\n",
       "      <td>0.061625</td>\n",
       "      <td>0.023464</td>\n",
       "      <td>0.039801</td>\n",
       "    </tr>\n",
       "    <tr>\n",
       "      <th>Owaranai Seraph: Nagoya-hen</th>\n",
       "      <td>0.020270</td>\n",
       "      <td>0.000000</td>\n",
       "      <td>0.038356</td>\n",
       "      <td>0.020844</td>\n",
       "      <td>0.008030</td>\n",
       "    </tr>\n",
       "  </tbody>\n",
       "</table>\n",
       "</div>"
      ],
      "text/plain": [
       "Name                                            Pac-World  \\\n",
       "Name                                                        \n",
       "Kitty-chan wo Sagase! Toyama-shi Stamp Rally     0.000000   \n",
       "Detective Conan: Black History 2                 0.000000   \n",
       "Straw-saurus Neo                                 0.041534   \n",
       "Na mo Nai Hana no Youni                          0.002578   \n",
       "Soukyuu no Fafner: Dead Aggressor - The Beyond   0.004990   \n",
       "Master of Torque 3                               0.020968   \n",
       "You Should See Me in a Crown                     0.018430   \n",
       "Pokemon Movie 03: Kesshoutou no Teiou Entei      0.052893   \n",
       "Hetalia: The World Twinkle Extra Disc            0.032963   \n",
       "Owaranai Seraph: Nagoya-hen                      0.020270   \n",
       "\n",
       "Name                                            Dai Mahou Touge Omake  \\\n",
       "Name                                                                    \n",
       "Kitty-chan wo Sagase! Toyama-shi Stamp Rally                 0.000000   \n",
       "Detective Conan: Black History 2                             0.000000   \n",
       "Straw-saurus Neo                                             0.004169   \n",
       "Na mo Nai Hana no Youni                                      0.008433   \n",
       "Soukyuu no Fafner: Dead Aggressor - The Beyond               0.000000   \n",
       "Master of Torque 3                                           0.013134   \n",
       "You Should See Me in a Crown                                 0.000000   \n",
       "Pokemon Movie 03: Kesshoutou no Teiou Entei                  0.000000   \n",
       "Hetalia: The World Twinkle Extra Disc                        0.002563   \n",
       "Owaranai Seraph: Nagoya-hen                                  0.000000   \n",
       "\n",
       "Name                                            Chou Denji Machine Voltes V  \\\n",
       "Name                                                                          \n",
       "Kitty-chan wo Sagase! Toyama-shi Stamp Rally                       0.000000   \n",
       "Detective Conan: Black History 2                                   0.004055   \n",
       "Straw-saurus Neo                                                   0.064206   \n",
       "Na mo Nai Hana no Youni                                            0.057748   \n",
       "Soukyuu no Fafner: Dead Aggressor - The Beyond                     0.048630   \n",
       "Master of Torque 3                                                 0.036709   \n",
       "You Should See Me in a Crown                                       0.035768   \n",
       "Pokemon Movie 03: Kesshoutou no Teiou Entei                        0.109172   \n",
       "Hetalia: The World Twinkle Extra Disc                              0.061625   \n",
       "Owaranai Seraph: Nagoya-hen                                        0.038356   \n",
       "\n",
       "Name                                            Ganbare Swimmy  \\\n",
       "Name                                                             \n",
       "Kitty-chan wo Sagase! Toyama-shi Stamp Rally          0.000000   \n",
       "Detective Conan: Black History 2                      0.000000   \n",
       "Straw-saurus Neo                                      0.030023   \n",
       "Na mo Nai Hana no Youni                               0.004637   \n",
       "Soukyuu no Fafner: Dead Aggressor - The Beyond        0.013153   \n",
       "Master of Torque 3                                    0.025520   \n",
       "You Should See Me in a Crown                          0.016667   \n",
       "Pokemon Movie 03: Kesshoutou no Teiou Entei           0.036594   \n",
       "Hetalia: The World Twinkle Extra Disc                 0.023464   \n",
       "Owaranai Seraph: Nagoya-hen                           0.020844   \n",
       "\n",
       "Name                                            City Hunter: Hyakuman Dollar no Inbou  \n",
       "Name                                                                                   \n",
       "Kitty-chan wo Sagase! Toyama-shi Stamp Rally                                 0.000000  \n",
       "Detective Conan: Black History 2                                             0.006607  \n",
       "Straw-saurus Neo                                                             0.018823  \n",
       "Na mo Nai Hana no Youni                                                      0.026862  \n",
       "Soukyuu no Fafner: Dead Aggressor - The Beyond                               0.003314  \n",
       "Master of Torque 3                                                           0.003839  \n",
       "You Should See Me in a Crown                                                 0.031070  \n",
       "Pokemon Movie 03: Kesshoutou no Teiou Entei                                  0.040071  \n",
       "Hetalia: The World Twinkle Extra Disc                                        0.039801  \n",
       "Owaranai Seraph: Nagoya-hen                                                  0.008030  "
      ]
     },
     "execution_count": 9,
     "metadata": {},
     "output_type": "execute_result"
    }
   ],
   "source": [
    "similarity_df = pd.DataFrame(similarity, index=anime_synopsis['Name'], columns=anime_synopsis['Name'])\n",
    "print('Shape:', similarity_df.shape)\n",
    " \n",
    "# Melihat similarity matrix pada setiap resto\n",
    "similarity_df.sample(5, axis=1).sample(10, axis=0)"
   ]
  },
  {
   "cell_type": "code",
   "execution_count": 11,
   "metadata": {},
   "outputs": [],
   "source": [
    "similarity_df.to_pickle(\"./dummy.pkl\")"
   ]
  },
  {
   "cell_type": "markdown",
   "metadata": {
    "id": "g0_B8ZrimMe-"
   },
   "source": [
    "##Pembentukan Fungsi Rekomendasi\n",
    "\n",
    "Membuat fungsi anime_recommendations dengan beberapa parameter:\n",
    "  **Anime** : Nama anime(index kemiripan dataframe).\n",
    "-   **Similarity_data** : Dataframe mengenai similarity yang telah kita definisikan sebelumnya.\n",
    "-   **items** : Nama dan fitur yang digunakan untuk mendefinisikan kemiripan. Dalam hal ini **Name** yang merujuk pada nama anime dan **synopsis** yang merupakan sinopsis dari nama anime yang diberikan.\n",
    "-   **k** : Banyak rekomendasi yang ingin diberikan.\n",
    "\n",
    "Fungsi ini akan menghasilkan keluaran berupa Top N rekomendasi, yang nilai N akan disesuaikan pada parameter k) berdasarkan kesamaan pada matriks similarity. Keluaran yang dihasilkan adalah judul anime, sinopsis dan genre.\n",
    "\n"
   ]
  },
  {
   "cell_type": "code",
   "execution_count": 14,
   "metadata": {
    "executionInfo": {
     "elapsed": 11,
     "status": "aborted",
     "timestamp": 1635315385994,
     "user": {
      "displayName": "Arfal Razya",
      "photoUrl": "https://lh3.googleusercontent.com/a-/AOh14Gh_q3EhB-VGjPr6l1LLwGZxajUJFvmO_xL3OjI7qQ=s64",
      "userId": "07865551859919385323"
     },
     "user_tz": -480
    },
    "id": "fjoLBGBa3bFm"
   },
   "outputs": [],
   "source": [
    "def anime_recommendations(anime, similarity_data=similarity_df, items=anime_synopsis[['Name', 'sypnopsis','Genres']], k=5):\n",
    "\n",
    "    index = similarity_data.loc[:,anime].to_numpy().argpartition(\n",
    "        range(-1, -k, -1))\n",
    "    \n",
    "    closest = similarity_data.columns[index[-1:-(k+2):-1]]\n",
    "    \n",
    "    closest = closest.drop(anime, errors='ignore')\n",
    " \n",
    "    return pd.DataFrame(closest).merge(items).head(k)"
   ]
  },
  {
   "cell_type": "markdown",
   "metadata": {
    "id": "8i6LmpEHz_us"
   },
   "source": [
    "#Evaluasi\n",
    "##Melakukan Pengecekan Data\n",
    "Hal pertama untuk melakukan evaluasi, disini dilihat terlebih dahulu padakah judul anime yang akan dimasukkan ke fungsi rekomendasi ada dalam datasets. Pengecekan dilakukan dengan bantuan fungsi **eq()**. Dalam kasus ini akan dipastikan anime dengan judul One Punch Man ada dalam datasets."
   ]
  },
  {
   "cell_type": "code",
   "execution_count": 15,
   "metadata": {
    "executionInfo": {
     "elapsed": 11,
     "status": "aborted",
     "timestamp": 1635315385995,
     "user": {
      "displayName": "Arfal Razya",
      "photoUrl": "https://lh3.googleusercontent.com/a-/AOh14Gh_q3EhB-VGjPr6l1LLwGZxajUJFvmO_xL3OjI7qQ=s64",
      "userId": "07865551859919385323"
     },
     "user_tz": -480
    },
    "id": "PP7He75g3zF2"
   },
   "outputs": [
    {
     "data": {
      "text/html": [
       "<div>\n",
       "<style scoped>\n",
       "    .dataframe tbody tr th:only-of-type {\n",
       "        vertical-align: middle;\n",
       "    }\n",
       "\n",
       "    .dataframe tbody tr th {\n",
       "        vertical-align: top;\n",
       "    }\n",
       "\n",
       "    .dataframe thead th {\n",
       "        text-align: right;\n",
       "    }\n",
       "</style>\n",
       "<table border=\"1\" class=\"dataframe\">\n",
       "  <thead>\n",
       "    <tr style=\"text-align: right;\">\n",
       "      <th></th>\n",
       "      <th>MAL_ID</th>\n",
       "      <th>Name</th>\n",
       "      <th>Score</th>\n",
       "      <th>Genres</th>\n",
       "      <th>sypnopsis</th>\n",
       "    </tr>\n",
       "  </thead>\n",
       "  <tbody>\n",
       "    <tr>\n",
       "      <th>9394</th>\n",
       "      <td>30276</td>\n",
       "      <td>One Punch Man</td>\n",
       "      <td>8.57</td>\n",
       "      <td>Action, Sci-Fi, Comedy, Parody, Super Power, S...</td>\n",
       "      <td>The seemingly ordinary and unimpressive Saitam...</td>\n",
       "    </tr>\n",
       "  </tbody>\n",
       "</table>\n",
       "</div>"
      ],
      "text/plain": [
       "      MAL_ID           Name Score  \\\n",
       "9394   30276  One Punch Man  8.57   \n",
       "\n",
       "                                                 Genres  \\\n",
       "9394  Action, Sci-Fi, Comedy, Parody, Super Power, S...   \n",
       "\n",
       "                                              sypnopsis  \n",
       "9394  The seemingly ordinary and unimpressive Saitam...  "
      ]
     },
     "execution_count": 15,
     "metadata": {},
     "output_type": "execute_result"
    }
   ],
   "source": [
    "anime_synopsis[anime_synopsis.Name.eq('One Punch Man')]"
   ]
  },
  {
   "cell_type": "markdown",
   "metadata": {
    "id": "F-odufLfz-fS"
   },
   "source": [
    "##Uji Coba Fungsi\n",
    "Pada pengujian ini akan dilakukan untuk mendapatkan **Top 5 Recommendation**.\n",
    "Judul Anime yang telah diperiksa tadi dimasukkan dalam fungsi anime **anime_recommendations()**. Dapat dilihat hasil dari fungsi tersebut menghasilkan 5 buah rekomendasi sesuai dengan parameter k."
   ]
  },
  {
   "cell_type": "code",
   "execution_count": 16,
   "metadata": {
    "executionInfo": {
     "elapsed": 11,
     "status": "aborted",
     "timestamp": 1635315385995,
     "user": {
      "displayName": "Arfal Razya",
      "photoUrl": "https://lh3.googleusercontent.com/a-/AOh14Gh_q3EhB-VGjPr6l1LLwGZxajUJFvmO_xL3OjI7qQ=s64",
      "userId": "07865551859919385323"
     },
     "user_tz": -480
    },
    "id": "Bhmfebh44CGs"
   },
   "outputs": [
    {
     "data": {
      "text/html": [
       "<div>\n",
       "<style scoped>\n",
       "    .dataframe tbody tr th:only-of-type {\n",
       "        vertical-align: middle;\n",
       "    }\n",
       "\n",
       "    .dataframe tbody tr th {\n",
       "        vertical-align: top;\n",
       "    }\n",
       "\n",
       "    .dataframe thead th {\n",
       "        text-align: right;\n",
       "    }\n",
       "</style>\n",
       "<table border=\"1\" class=\"dataframe\">\n",
       "  <thead>\n",
       "    <tr style=\"text-align: right;\">\n",
       "      <th></th>\n",
       "      <th>Name</th>\n",
       "      <th>sypnopsis</th>\n",
       "      <th>Genres</th>\n",
       "    </tr>\n",
       "  </thead>\n",
       "  <tbody>\n",
       "    <tr>\n",
       "      <th>0</th>\n",
       "      <td>One Punch Man: Road to Hero</td>\n",
       "      <td>Before Saitama became the man he is today, he ...</td>\n",
       "      <td>Action, Sci-Fi, Comedy, Parody, Super Power, S...</td>\n",
       "    </tr>\n",
       "    <tr>\n",
       "      <th>1</th>\n",
       "      <td>Aura: Maryuuin Kouga Saigo no Tatakai</td>\n",
       "      <td>Ichirou Satou is an ordinary high school stude...</td>\n",
       "      <td>Supernatural, Drama, Romance, School</td>\n",
       "    </tr>\n",
       "    <tr>\n",
       "      <th>2</th>\n",
       "      <td>One Punch Man 2nd Season</td>\n",
       "      <td>In the wake of defeating Boros and his mighty ...</td>\n",
       "      <td>Action, Sci-Fi, Comedy, Parody, Super Power, S...</td>\n",
       "    </tr>\n",
       "    <tr>\n",
       "      <th>3</th>\n",
       "      <td>Yumeria</td>\n",
       "      <td>On his 16th birthday, Tomokazu Mikuri had a re...</td>\n",
       "      <td>Action, Comedy, Ecchi, Harem, Super Power</td>\n",
       "    </tr>\n",
       "    <tr>\n",
       "      <th>4</th>\n",
       "      <td>Dog Days'</td>\n",
       "      <td>Cinque returns to the land of Flonyard in Dog ...</td>\n",
       "      <td>Action, Adventure, Magic, Fantasy</td>\n",
       "    </tr>\n",
       "  </tbody>\n",
       "</table>\n",
       "</div>"
      ],
      "text/plain": [
       "                                    Name  \\\n",
       "0            One Punch Man: Road to Hero   \n",
       "1  Aura: Maryuuin Kouga Saigo no Tatakai   \n",
       "2               One Punch Man 2nd Season   \n",
       "3                                Yumeria   \n",
       "4                              Dog Days'   \n",
       "\n",
       "                                           sypnopsis  \\\n",
       "0  Before Saitama became the man he is today, he ...   \n",
       "1  Ichirou Satou is an ordinary high school stude...   \n",
       "2  In the wake of defeating Boros and his mighty ...   \n",
       "3  On his 16th birthday, Tomokazu Mikuri had a re...   \n",
       "4  Cinque returns to the land of Flonyard in Dog ...   \n",
       "\n",
       "                                              Genres  \n",
       "0  Action, Sci-Fi, Comedy, Parody, Super Power, S...  \n",
       "1               Supernatural, Drama, Romance, School  \n",
       "2  Action, Sci-Fi, Comedy, Parody, Super Power, S...  \n",
       "3          Action, Comedy, Ecchi, Harem, Super Power  \n",
       "4                  Action, Adventure, Magic, Fantasy  "
      ]
     },
     "execution_count": 16,
     "metadata": {},
     "output_type": "execute_result"
    }
   ],
   "source": [
    "anime_recommendations('One Punch Man')"
   ]
  },
  {
   "cell_type": "code",
   "execution_count": null,
   "metadata": {},
   "outputs": [],
   "source": []
  }
 ],
 "metadata": {
  "colab": {
   "authorship_tag": "ABX9TyOtHy/GJky66VgvqXApATEo",
   "collapsed_sections": [],
   "name": "Submission Recomander System.ipynb",
   "provenance": []
  },
  "kernelspec": {
   "display_name": "Python 3",
   "language": "python",
   "name": "python3"
  },
  "language_info": {
   "codemirror_mode": {
    "name": "ipython",
    "version": 3
   },
   "file_extension": ".py",
   "mimetype": "text/x-python",
   "name": "python",
   "nbconvert_exporter": "python",
   "pygments_lexer": "ipython3",
   "version": "3.8.8"
  }
 },
 "nbformat": 4,
 "nbformat_minor": 1
}
